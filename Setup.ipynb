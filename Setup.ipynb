{
 "cells": [
  {
   "cell_type": "markdown",
   "metadata": {},
   "source": [
    "# ML Workshop — Set-Up"
   ]
  },
  {
   "cell_type": "markdown",
   "metadata": {},
   "source": [
    "[ ] Send your Floyd username to your instructor, so he can add you to the Floyd team.\n",
    "\n",
    "## Getting familiar with the Floyd / Jupyter / Python environment \n",
    "\n",
    "* [ ] Go through the `get_started_workspace.ipynb` notebook\n",
    "* [ ] Go through the Intro-Jupyter.ipynb notebook"
   ]
  },
  {
   "cell_type": "markdown",
   "metadata": {},
   "source": [
    "*The Machine and Deep Learning workshops include “lab” sessions, with hands-on exercises to do on your laptop. This document contains the required set-up instructions to prepare the environment you’ll use for these exercises. This environment will be based on a service called Floyd — we explain its benefits below. Finally, some optional instructions are given.*\n",
    "\n",
    "## Required set-up instructions\n",
    "\n",
    "Please follow these instructions from the machine you’ll use during the workshop:\n",
    "\n",
    "* [ ] **Make sure you have a recent version of** [**Chrome**](http://google.com/chrome)**.** You could try using a different browser, but we have noticed issues with the web interfaces we use for these workshops (whereas everything was tested with Chrome and works well).\n",
    "* [ ] **Sign up for a** [**FloydHub**](https://www.floydhub.com/) **account.** Floyd is a cloud platform to set up Python and [Jupyter](https://jupyter.org/) environments provisioned with all the software we'll need. If you can’t access it, you may have to deactivate proxies on your machine — get in touch with your IT department and with your instructor.\n",
    "* [ ] Make sure you’re able to use Floyd:\n",
    "    - Create a project\n",
    "    - Create and start a workspace in that project, with environment *TensorFlow 1.8* and with CPU\n",
    "    - Go through the “get started” document that appears upon starting the workspace\n",
    "    - Click on the Shutdown button when done.\n",
    "    \n",
    "## Why Floyd?\n",
    "\n",
    "3 main reasons:\n",
    "\n",
    "- It’s common practice to use powerful (GPU-equipped) machines in the cloud for ML/DL experiments. They make it faster to run experiments, and they can continue running while your laptop is closed.\n",
    "- Floyd makes it much faster to set up cloud machines than other services, and much more convenient to persist work done on these machines.\n",
    "- You won’t have to download heavy datasets (several GB for the DL workshop): they’re already on Floyd!\n",
    "\n",
    "We will show how to use Floyd in class. In the meantime, if you want to play around with it, just keep in mind that you will be billed for running projects if you go over the 20 hours per month included in Free accounts. We will answer questions related to running projects in class.\n",
    "\n",
    "We will add you to our \"team\" on Floyd, so you will have access to additional features (better CPU/GPU) and you won’t be billed for your usage during the workshop.\n",
    "\n",
    "## Optional set-up instructions\n",
    "\n",
    "Your instructor might show some demos of the tools below, depending on time available (but you won’t need these tools to complete the exercises).\n",
    "\n",
    "- [BigML](http://www.bigml.com/): proprietary Machine Learning-as-a-Service platform which provides very high-level functionalities (usage is free in \"dev\" mode with datasets of up to 16 MB).\n",
    "- [Indico](http://www.indico.io/): cloud API which exposes pre-built, proprietary Machine Learning and Deep Learning models. Usage is free for non-commercial purposes.\n",
    "- [Postman](http://getpostman.com/): software to easily send calls to ML/DL APIs, via a graphical interface. A desktop app is available on Mac, and a Chrome app is available for other platforms.\n",
    "\n",
    "In case you cannot use Floyd and need to install all the required ML software on your own machine:\n",
    "\n",
    "- The main environment we'll be using is that of Jupyter notebooks. Among other features, Jupyter allows editing and executing Python code from a web interface (have a look at the video below for an introduction).\n",
    "https://www.youtube.com/watch?v=pwr-pR0tu5Y&&feature=youtu.be\n",
    "\n",
    "- Floyd enables to easily set up a Jupyter environment on their infrastructure, provisioned with all the necessary ML software. Alternatively, you can set up a similar, fully open-source Python+Jupyter environment locally by following the indications in [Machine-Learning-Starter-Kit/code/README.md](https://github.com/louisdorard/Machine-Learning-Starter-Kit/blob/master/code/README.md).\n",
    "- If you choose to use your own machine for the Deep Learning workshop, you will also need to download datasets and models which weigh a few GB in total. This is likely to be challenging on the internet connection that will be provided during the workshop. Please get in touch with your instructor well in advance if you plan to do that.\n",
    "\n",
    "## Copyright\n",
    "\n",
    "[Louis Dorard](http://louisdorard.com) © All Rights Reserved\n",
    "\n",
    "Follow me on Twitter [@louisdorard](https://twitter.com/louisdorard) "
   ]
  }
 ],
 "metadata": {
  "kernelspec": {
   "display_name": "Python [default]",
   "language": "python",
   "name": "python3"
  },
  "language_info": {
   "codemirror_mode": {
    "name": "ipython",
    "version": 3
   },
   "file_extension": ".py",
   "mimetype": "text/x-python",
   "name": "python",
   "nbconvert_exporter": "python",
   "pygments_lexer": "ipython3",
   "version": "3.6.8"
  }
 },
 "nbformat": 4,
 "nbformat_minor": 2
}
